{
  "nbformat": 4,
  "nbformat_minor": 0,
  "metadata": {
    "colab": {
      "provenance": [],
      "authorship_tag": "ABX9TyPwuV8osLSycadB3I+c22st",
      "include_colab_link": true
    },
    "kernelspec": {
      "name": "python3",
      "display_name": "Python 3"
    },
    "language_info": {
      "name": "python"
    }
  },
  "cells": [
    {
      "cell_type": "markdown",
      "metadata": {
        "id": "view-in-github",
        "colab_type": "text"
      },
      "source": [
        "<a href=\"https://colab.research.google.com/github/trangdangberlin/Web_scraper_links_from_URL/blob/main/Web_Scraping_with_BeautifulSoup_.ipynb\" target=\"_parent\"><img src=\"https://colab.research.google.com/assets/colab-badge.svg\" alt=\"Open In Colab\"/></a>"
      ]
    },
    {
      "cell_type": "code",
      "execution_count": 5,
      "metadata": {
        "colab": {
          "base_uri": "https://localhost:8080/"
        },
        "id": "Qug0QkXbbVSw",
        "outputId": "a1303870-1e1a-44f1-8e98-90576bdf2beb"
      },
      "outputs": [
        {
          "output_type": "stream",
          "name": "stdout",
          "text": [
            "#main\n",
            "https://everphone.com/de/\n",
            "https://everphone.com/de/service/\n",
            "https://everphone.com/de/devices/\n",
            "https://everphone.com/de/ueber-uns/\n",
            "https://everphone.com/en/\n",
            "https://everphone.com/fr/\n",
            "https://everphone.com/nl/\n",
            "https://www.everphone.app/\n",
            "#\n",
            "https://everphone.com/de/service/\n",
            "https://everphone.com/de/blog/new-work-smartphone/\n",
            "https://everphone.com/de/ueber-uns/\n",
            "https://everphone.com/de/service/nachhaltigkeit/\n",
            "https://everphone.com/de/case-studies/henkel/\n",
            "https://everphone.com/de/case-studies/flughafen-koeln-bonn/\n",
            "https://everphone.com/de/case-studies/stadtwerke-dinslaken/\n",
            "https://everphone.com/de/ueber-uns/\n",
            "https://everphone.com/de/karriere/\n",
            "https://everphone.com/de/kontakt/\n",
            "https://www.linkedin.com/company/everphone-gmbh/\n",
            "https://www.instagram.com/everphone_official/\n",
            "https://www.tiktok.com/@everphone.berlin\n",
            "https://everphone.com/de/impressum/\n",
            "https://everphone.com/de/datenschutzerklarung/\n",
            "https://everphone.com/de/service/integrationsmoglichkeiten/\n",
            "https://everphone.com/de/content-hub/\n",
            "https://everphone.com/de/blog/\n",
            "https://everphone.com/de/magazin/\n",
            "https://everphone.com/de/wiki/\n",
            "https://everphone.com/de/faq/\n",
            "https://everphone.com/de/presse/\n",
            "#\n",
            "#\n",
            "https://everphone.com/de/\n",
            "javascript:void(0)\n",
            "https://everphone.com/en/\n",
            "https://everphone.com/fr/\n",
            "https://everphone.com/nl/\n",
            "https://everphone.com/de/service/\n",
            "https://everphone.com/de/devices/\n",
            "https://everphone.com/de/ueber-uns/\n",
            "https://www.everphone.app/\n",
            "https://twitter.com/everphone_\n",
            "https://www.linkedin.com/company/everphone-gmbh/\n",
            "https://userway.org\n"
          ]
        }
      ],
      "source": [
        "import requests\n",
        "from bs4 import BeautifulSoup\n",
        "\n",
        "def scrape_website(url):\n",
        "    # Send a GET request to the URL\n",
        "    response = requests.get(url)\n",
        "\n",
        "    # Check if the request was successful (status code 200)\n",
        "    if response.status_code == 200:\n",
        "        # Parse the HTML content of the page\n",
        "        soup = BeautifulSoup(response.text, 'html.parser')\n",
        "\n",
        "        # Example: Extracting all the links on the page\n",
        "        links = soup.find_all('a')\n",
        "        for link in links:\n",
        "            print(link['href'])\n",
        "\n",
        "        # Example: Extracting text from specific elements\n",
        "        paragraphs = soup.find_all('p', class_='some-class')\n",
        "        for paragraph in paragraphs:\n",
        "            print(paragraph.text)\n",
        "\n",
        "    else:\n",
        "        print(f\"Failed to retrieve data from the website. Status code: {response.status_code}\")\n",
        "\n",
        "# Usage example\n",
        "url = \"https://everphone.com/de/\"\n",
        "scrape_website(url)\n"
      ]
    }
  ]
}